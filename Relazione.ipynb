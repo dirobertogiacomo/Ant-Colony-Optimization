{
 "cells": [
  {
   "attachments": {},
   "cell_type": "markdown",
   "metadata": {},
   "source": [
    "TITOLO"
   ]
  },
  {
   "attachments": {},
   "cell_type": "markdown",
   "metadata": {},
   "source": [
    "Introduzione"
   ]
  },
  {
   "attachments": {},
   "cell_type": "markdown",
   "metadata": {},
   "source": [
    "Il problema del commesso viaggiatore (travel salesman problem, in acronimo TSP) è un classico problema di ottimizzazione. Dato un insieme di città e date le distanze tra ciascuna coppia di città, l’obiettivo del problema è trovare la strada più breve che il commesso viaggiatore deve percorrere per visitare tutte le città una e una sola volta, per poi tornare al punto di partenza. Molti problemi ingegneristici, in svariati campi, come il vehicle routing, il design di circuiti stampati (PCB), problemi di logistica, etc. possono essere ricondotti al TCP. A livello computazionale, il TCP è un problema NP-difficile e il tempo necessario per trovare la soluzione ottima del problema aumenta esponenzialmente in proporzione al numero di città. Il problema può essere modellato attraverso un grafo, i cui vertici rappresentano le città da visitare e gli archi sono l’insieme delle possibili strade percorribili. Il costo $c_{ij}$ associato all’arco per andare dal nodo $i$ al nodo $j$ rappresenta la distanza tra le due città. Data $x_{ij}$ la generica variabile binaria tale che $x_{ij} = 1$ se l’arco $(i,j)$ appartiene al percorso e $x_{ij} = 0$ altrimenti, una possibile formulazione matematica del problema è:"
   ]
  },
  {
   "attachments": {},
   "cell_type": "markdown",
   "metadata": {},
   "source": [
    "\\begin{split} \n",
    "    &\\begin{equation}\n",
    "        \\begin{array}{lr}\n",
    "            &z = min \\sum_{i=1}^{n}\\sum_{j=1}^{n}c_{i,j}x_{i,j}\n",
    "            & \n",
    "        \\end{array}\\\\\n",
    "    \\end{equation}\\\\\n",
    "    \\\\\n",
    "    &\\begin{equation}\n",
    "        \\begin{array}{lr}\n",
    "            &\\sum_{i=1}^{n} x_{i,j} = 1\n",
    "            &j = 1,...,n\n",
    "            & \n",
    "        \\end{array}\n",
    "    \\end{equation}\\\\\n",
    "    \\\\\n",
    "    &\\begin{equation}\n",
    "        \\begin{array}{lr}\n",
    "            &\\sum_{j=1}^{n} x_{i,j} = 1\n",
    "            &i = 1,...,n\n",
    "            & \n",
    "        \\end{array}\n",
    "    \\end{equation}\\\\\n",
    "    \\\\\n",
    "    &\\begin{equation}\n",
    "        \\begin{array}{lr}\n",
    "            &\\sum_{i\\in Q}^{n}\\sum_{j \\in Q\\backslash V}^{n}x_{i,j} \\ge 1 \n",
    "            &\\forall Q  \\subset V,|Q| \\ge 1\n",
    "            & \n",
    "        \\end{array}\n",
    "    \\end{equation}\\\\\n",
    "\\end{split}"
   ]
  },
  {
   "attachments": {},
   "cell_type": "markdown",
   "metadata": {},
   "source": [
    "La relazione $(1)$ è la funzione obiettivo. I vincoli $(2)$ e $(3)$, detti vincoli di assegnazione, indicano che in ogni nodo i entra ed esce un solo arco. L’ultimo vincolo assicura l’assenza di sottocircuiti.\n",
    "\n",
    "L’approccio più diretto per risolvere il TSP è quello di provare tutte le possibili combinazioni (approccio forza bruta) e trovare così il percorso più breve. Tuttavia il tempo di esecuzione con questo metodo è dell’ordine O(n!), dove n è il numero delle città, perciò questa soluzione diventa impraticabile anche solo con qualche decina di città. Un metodo più efficace per trovare una soluzione ottima al TSP è usare algoritmi di branch and bound (B&B). Il branch and bound suddivide il problema in tanti sottoproblemi più piccoli ed elimina quei sottoproblemi che non possono contenere la soluzione ottima. In questo modo il numero di iterazioni è molto minore rispetto ad un approccio forza bruta. Nel caso del TSP usando il B&B si possono risolvere problemi con 40-60 città.\n",
    " \n",
    "Quando però si ha a che fare con problemi con un numero molto elevato di città diventa impraticabile usare gli algoritmi esatti. Perciò negli anni sono stati sviluppati diversi algoritmi euristici che conducono rapidamente ad una buona soluzione. Però, in generale, gli algoritmi euristici non danno un’indicazione sulla qualità della soluzione trovata. Una categoria di algoritmi euristici sono gli algoritmi metaeuristici: questo tipo di algoritmi diversifica la ricerca nello spazio per cercare di migliorare la soluzione e intensificano la ricerca quando la soluzione diventa più promettente.\n"
   ]
  },
  {
   "attachments": {},
   "cell_type": "markdown",
   "metadata": {},
   "source": [
    "ACO\n",
    "\n",
    "L’algoritmo Ant Colony Optimization è un tipo di algoritmo metauristico ispirato al comportamento delle formiche nel trovare il percorso più veloce per raggiugere il cibo. In natura le formiche vanno in cerca di cibo per la loro colonia, inizialmente seguendo un percorso completamente randomico, e, una volta trovato, tornano indietro seguendo circa lo stesso percorso. Nel tornare indietro lasciano tracce di feromoni lungo il percorso in modo che altre formiche della colonia possano seguire lo stesso percorso e raggiungere il cibo. Con il tempo, tuttavia, la scia di feromoni inizia a evaporare, riducendo così la sua forza attrattiva. Più tempo impiega una formica a percorrere il sentiero e a tornare indietro, più tempo hanno i feromoni per evaporare. Un percorso breve, invece, viene percorso più frequentemente e quindi la densità di feromoni diventa più alta sui percorsi brevi rispetto a quelli più lunghi. In questo modo le formiche riescono a trovare il percorso più breve verso il cibo. L’idea dell’ACO è quella di imitare questo comportamento usando delle “formiche virtuali” che camminano intorno al grafo che rappresenta il problema da risolvere. L’ACO è stato usato per risolvere diversi problemi di ottimizzazione tra cui il TCP. "
   ]
  },
  {
   "attachments": {},
   "cell_type": "markdown",
   "metadata": {},
   "source": [
    "Modello matematico\n",
    "\n",
    "Inizialmente viene generata una colonia composta da $m$ formiche e ciascuna formica viene piazzata in maniera casuale tra le varie città. Una generica formica $k$ posizionata nella i-esima città decide di muoversi verso una città $j$ seguendo una regola di spostamento probabilistica:"
   ]
  },
  {
   "attachments": {},
   "cell_type": "markdown",
   "metadata": {},
   "source": [
    "$$\n",
    "    p_{i,j}^k (t) = \n",
    "    \\begin{cases}\n",
    "        \\begin{array}{lr}\n",
    "            &\\frac{\\tau_{i,j}(t)^{\\alpha}\\eta_{i,j}^{\\beta}}{\\sum_{l \\in J_i^k} \\tau_{i,l}(t)^{\\alpha}\\eta_{i,l}^{\\beta}},\n",
    "            &j \\in J_i^k\n",
    "        \\end{array}\\\\\n",
    "        \\begin{array}{lr}\n",
    "            &0,\n",
    "            &j \\notin J_i^k\n",
    "        \\end{array}\n",
    "    \\end{cases}\n",
    "$$"
   ]
  },
  {
   "attachments": {},
   "cell_type": "markdown",
   "metadata": {},
   "source": [
    "dove $J_i^k$ è l’elenco dei possibili spostamenti della formica $k$ quando si trova nella i-esima città, $n_{ij}$ è la visibilità euristica che è l’inverso della distanza $d_{ij}$ tra due città $i$ e $j$. $\\alpha$ e $\\beta$ sono due parametri che controllano l’importanza relativa dell’intensità e della visibilità di un bordo $(i,j)$. $\\tau_{ij}(t)$ è la quantità di feromone presente tra il nodo $i$ e $j$ all’istante $t$.\n",
    "\n",
    "Quando la formica $k$ completa tutto il percorso, visitando tutte le città, deposita una certa quantità $\\Delta \\tau_{ij}^k$ di feromone su ogni bordo del percorso che ha seguito.\n"
   ]
  },
  {
   "attachments": {},
   "cell_type": "markdown",
   "metadata": {},
   "source": [
    "$$\n",
    "    \\Delta \\tau_{ij}^k (t) = \n",
    "    \\begin{cases}\n",
    "        \\begin{array}{lr}\n",
    "            &\\frac{Q}{L^k(t)},\n",
    "            &(i,j) \\in T^k(t)\n",
    "        \\end{array}\\\\\n",
    "        \\begin{array}{lr}\n",
    "            &0,\n",
    "            &(i,j) \\notin T^k(t)\n",
    "        \\end{array}\n",
    "    \\end{cases}\n",
    "$$"
   ]
  },
  {
   "attachments": {},
   "cell_type": "markdown",
   "metadata": {},
   "source": [
    "$T^k$ è il percorso seguito dalla k-esima formica e $L^k$ è la sua lunghezza. $Q$ è un parametro di regolazione.\n",
    "\n",
    "Perciò quando tutte le formiche hanno completato il proprio giro la quantità di feromone depositata lungo tutto il grafo è cambiata e perciò bisogna aggiornarla seguendo la formula:"
   ]
  },
  {
   "attachments": {},
   "cell_type": "markdown",
   "metadata": {},
   "source": [
    "$$\n",
    "    \\tau_{i,j}(t+1) = (1- \\rho)\\tau_{i,j}(t) + \\sum_{k=1}^{m}\\Delta \\tau_{ij}^k (t)\n",
    "$$"
   ]
  },
  {
   "attachments": {},
   "cell_type": "markdown",
   "metadata": {},
   "source": [
    "dove $\\rho$ è un parametro che controlla l’evaporazione del feromone."
   ]
  },
  {
   "attachments": {},
   "cell_type": "markdown",
   "metadata": {},
   "source": []
  },
  {
   "attachments": {},
   "cell_type": "markdown",
   "metadata": {},
   "source": [
    "Per lo sviluppo del codice dell’algoritmo ho creato un modulo in Python composto semplicemente da una classe con cui l’utente può definire il problema e risolverlo. La classe è composta da tre metodi e una sottoclasse usata per memorizzare i risultati. Ho usato una sottoclasse in modo da distinguere i risultati ottenuti dall’algoritmo con gli altri attributi che compongono la classe principale.\n",
    "\n",
    "Per inizializzare il problema la classe ha bisogno di due parametri in ingresso: una matrice e una stringa. La matrice deve contenere le distanze tra le città che possono essere espresse come distanze 2-D nel piano Euclideo, cioè come coordinate $(x,y)$, oppure possono essere espresse in maniera esplicita, indicando le distanze per ogni coppia di città. La stringa serve quindi a distinguere il tipo di matrice data in ingresso e può avere come valori ‘EXPLICIT’, nel caso in cui la matrice sia esplicita, oppure ‘EUC_2D’ per il caso opposto. Nel caso in cui la matrice è di quest’ultimo tipo verranno calcolate le distanze euclidee\n"
   ]
  }
 ],
 "metadata": {
  "kernelspec": {
   "display_name": "base",
   "language": "python",
   "name": "python3"
  },
  "language_info": {
   "name": "python",
   "version": "3.8.8"
  },
  "orig_nbformat": 4
 },
 "nbformat": 4,
 "nbformat_minor": 2
}
